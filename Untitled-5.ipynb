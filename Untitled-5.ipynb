{
 "cells": [
  {
   "cell_type": "code",
   "execution_count": 11,
   "metadata": {},
   "outputs": [
    {
     "name": "stdout",
     "output_type": "stream",
     "text": [
      "Bilangan pertama dikali: Bilangan kedua: 6 x 5 = 5 + 5 + 5 + 5 + 5 + 5 = 35\n",
      "\n"
     ]
    }
   ],
   "source": [
    "def perkalian(a,b):\n",
    "    hasil = 0\n",
    "    proses = str(b)\n",
    "    for i in range(a-1):\n",
    "        hasil += a\n",
    "        proses += \" + \" + str(b)\n",
    "    return proses + \" = \" + str(hasil + b)\n",
    "\n",
    "print(\"Bilangan pertama dikali: \", end=\"\")\n",
    "a = int(input())\n",
    "print(\"Bilangan kedua: \", end=\"\")\n",
    "b = int(input())\n",
    "print(f\"{a} x {b} = {perkalian(a, b)}\")\n",
    "\n",
    "print()"
   ]
  },
  {
   "cell_type": "code",
   "execution_count": 2,
   "metadata": {},
   "outputs": [
    {
     "name": "stdout",
     "output_type": "stream",
     "text": [
      "Batas bawah: Batas atas: Deret Bilangan Ganjil: 11,13,15,17,19,21,23,25,27,29\n"
     ]
    }
   ],
   "source": [
    "# Deret Bilangan Ganjil Menggunakan For\n",
    "def ganjil(bawah, atas):\n",
    "    deret = []\n",
    "    if bawah < atas:\n",
    "        for i in range(bawah, atas+1):\n",
    "            if i % 2 != 0:\n",
    "                deret.append(i)\n",
    "    else:\n",
    "        for i in range (bawah, atas-1, -1):\n",
    "            if i % 2 != 0:\n",
    "                deret.append(i)\n",
    "    return deret\n",
    "\n",
    "print(\"Batas bawah: \", end=\"\")\n",
    "bawah = int(input())\n",
    "print(\"Batas atas: \", end=\"\")\n",
    "atas = int(input())\n",
    "\n",
    "hasil = ganjil(bawah, atas)\n",
    "print(\"Deret Bilangan Ganjil:\",\",\".join(str(x) for x in hasil))"
   ]
  },
  {
   "cell_type": "code",
   "execution_count": 15,
   "metadata": {},
   "outputs": [
    {
     "name": "stdout",
     "output_type": "stream",
     "text": [
      "Masukkan batas bawah: Masukkan batas atas: Deret bilangan ganjil: 97, 95, 93, 91, 89, 87, 85, 83\n"
     ]
    }
   ],
   "source": [
    "# Deret Bilanagan Menggunakan While\n",
    "def ganjil(bawah, atas):\n",
    "    deret = []\n",
    "    if bawah < atas:\n",
    "        i = bawah\n",
    "        while i <= atas:\n",
    "            if i % 2 != 0:\n",
    "                deret.append(i)\n",
    "            i += 1\n",
    "    else:\n",
    "        i = bawah\n",
    "        while i >= atas:\n",
    "            if i % 2 != 0:\n",
    "                deret.append(i)\n",
    "            i -= 1\n",
    "    return deret\n",
    "\n",
    "print(\"Masukkan batas bawah: \", end=\"\")\n",
    "bawah = int(input())\n",
    "print(\"Masukkan batas atas: \", end=\"\")\n",
    "atas = int(input())\n",
    "\n",
    "hasil = ganjil(bawah, atas)\n",
    "print(\"Deret bilangan ganjil:\", \", \".join(str(x) for x in hasil))"
   ]
  },
  {
   "cell_type": "code",
   "execution_count": 37,
   "metadata": {},
   "outputs": [
    {
     "name": "stdout",
     "output_type": "stream",
     "text": [
      "Program penghitung IPS Mahasiswa\n",
      "Nilai IPS anda semester ini 2.67\n"
     ]
    }
   ],
   "source": [
    "def hitung_ips(jumlah_matkul):\n",
    "    total_bobot = 0\n",
    "    sks_total = jumlah_matkul * 3  # Asumsikan stiap matkul memiliki 3 sks\n",
    "\n",
    "    for i in range(jumlah_matkul):\n",
    "        nilai = input(f\"Nilai MK {i+1}: \").upper()\n",
    "\n",
    "        if nilai == \"A\":\n",
    "            bobot = 4\n",
    "        elif nilai == \"B\":\n",
    "            bobot = 3\n",
    "        elif nilai == \"C\":\n",
    "            bobot = 2\n",
    "        elif nilai == \"D\":\n",
    "            bobot = 1\n",
    "        else:\n",
    "            print(f\"Nilai {nilai} tidak valid.\")\n",
    "            sks_total -= 3  # Mngurangi sks_total krena nilai tdk valid\n",
    "            continue\n",
    "\n",
    "        total_bobot += bobot * 3\n",
    "\n",
    "    if sks_total == 0:\n",
    "        return 0\n",
    "    else:\n",
    "        ips = total_bobot / sks_total\n",
    "        return ips\n",
    "\n",
    "print(\"Program penghitung IPS Mahasiswa\")\n",
    "\n",
    "while True:\n",
    "    try:\n",
    "        jumlah_matkul = int(input(\"Masukkan Jumlah mata kuliah: \"))\n",
    "        break\n",
    "    except ValueError:\n",
    "        print(\"Input tidak valid. Silakan masukkan angka.\")\n",
    "\n",
    "ips_total = hitung_ips(jumlah_matkul)\n",
    "print(f\"Nilai IPS anda semester ini {ips_total:.2f}\")"
   ]
  }
 ],
 "metadata": {
  "kernelspec": {
   "display_name": "Python 3",
   "language": "python",
   "name": "python3"
  },
  "language_info": {
   "codemirror_mode": {
    "name": "ipython",
    "version": 3
   },
   "file_extension": ".py",
   "mimetype": "text/x-python",
   "name": "python",
   "nbconvert_exporter": "python",
   "pygments_lexer": "ipython3",
   "version": "3.12.0"
  }
 },
 "nbformat": 4,
 "nbformat_minor": 2
}
